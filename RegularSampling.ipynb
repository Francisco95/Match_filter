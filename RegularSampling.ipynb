{
 "cells": [
  {
   "cell_type": "code",
   "execution_count": 1,
   "metadata": {},
   "outputs": [],
   "source": [
    "import numpy as np\n",
    "from scipy import signal\n",
    "from scipy.interpolate import interp1d\n",
    "from scipy.signal import butter, filtfilt, iirdesign, zpk2tf, freqz, square\n",
    "%matplotlib inline\n",
    "%config InlineBackend.figure_format = 'retina'\n",
    "import matplotlib.pyplot as plt\n",
    "import matplotlib.mlab as mlab\n",
    "import seaborn\n",
    "# set the seed\n",
    "np.random.seed(2)"
   ]
  },
  {
   "cell_type": "markdown",
   "metadata": {},
   "source": [
    "## Match filter on regular sampling:\n",
    "* Since we have a regular sampling there is no problem with the frequencies of the dictionary or the nyquist frequency, this allow us to use an easy procedure for the match filter method for the fourier dictionary and with this, we will use the fast fourier algorithm.\n",
    "\n",
    "## Cases\n",
    "* We are going to consider different cases in order to see how this method will work, this cases are:\n",
    "    * Signal only of white noise\n",
    "    * Signal of a sinusoid plus white noise\n",
    "    * Signal of a composition of sinusoids plus white noise"
   ]
  },
  {
   "cell_type": "markdown",
   "metadata": {},
   "source": [
    "## Creating the signal"
   ]
  },
  {
   "cell_type": "code",
   "execution_count": 2,
   "metadata": {},
   "outputs": [],
   "source": [
    "class Signal:\n",
    "    def __init__(self, frequencies=[1], weights=[1], noise=None):\n",
    "        \"\"\"\n",
    "        it will generate a signal usign the frequencies and the weight from input.\n",
    "        the frecuencies should be in Hertz and the weight is a constante of \"amplitud\" \n",
    "        of every sub-signal associated to avery frequency.\n",
    "        weight should be a number between 0 and 1\n",
    "        \"\"\"\n",
    "        self.frequencies = frequencies\n",
    "        self.weights = weights\n",
    "        self.noise = noise\n",
    "        self.amp = 1\n",
    "    \n",
    "    def noise_samples(self):\n",
    "        return self.noise\n",
    "    \n",
    "    def sin_samples(self, times, with_noise=False):\n",
    "        y = np.zeros(times.shape[-1])\n",
    "        for i in range(len(self.frequencies)):\n",
    "            y += self.weights[i] * np.sin(2 * np.pi * self.frequencies[i] * times)\n",
    "        if with_noise:\n",
    "            y += self.noise\n",
    "        return self.amp * y\n",
    "    \n",
    "    def square_samples(self, times, with_noise=False):\n",
    "        y = np.zeros(len(times))\n",
    "        for i in range(len(self.frequencies)):\n",
    "            y += self.weights[i] * np.sign(np.sin(2 * np.pi * self.frequencies[i] * times))\n",
    "        if with_noise:\n",
    "            y += self.noise\n",
    "        return self.amp * y\n",
    "    \n",
    "    def gaussian_samples(self):\n",
    "        pass"
   ]
  },
  {
   "cell_type": "markdown",
   "metadata": {},
   "source": [
    "## The Match Filter method:\n",
    "* The idea is to make the convolution between the signal and a template, using the fourier transform allow us to make easy the convolution. The procedure is:\n",
    "    * First make the fourier transform of the signal and template\n",
    "    * do the product and scale for the power spectral density of the noise\n",
    "    * then go back to the time domain in order to se how is the SNR for different matches across time.\n",
    "    * find the best SNR, i.e. the SNR when the template and the signal match the best while we are \"moving\" the template across time."
   ]
  },
  {
   "cell_type": "code",
   "execution_count": 4,
   "metadata": {},
   "outputs": [],
   "source": [
    "# Match_filter\n",
    "class MatchFilter:\n",
    "    def __init__(self, signal, template, dt):\n",
    "        self.dt = dt\n",
    "        self.fs = 0.5 / dt\n",
    "        self.signal = signal\n",
    "        self.template = template\n",
    "        self.freq = self.compute_freqs()\n",
    "        self.psd = self.make_psd(signal)\n",
    "        \n",
    "    def compute_freqs(self):\n",
    "        return np.fft.fftfreq(len(self.signal), self.dt)\n",
    "    \n",
    "    def make_psd(self, data):\n",
    "        power, freq = mlab.psd(data, Fs=self.fs, NFFT=4 * self.fs)\n",
    "        return np.interp(self.freqs, freq, power)\n",
    "    \n",
    "    def product(self, signal_fft, template_fft, power_vec):\n",
    "        return signal_fft * template_fft.conjugate() / power_vec \n",
    "        \n",
    "    def SNR(self, noise, normalize=True): # as defined from LIGO\n",
    "        template_fft = np.fft.fft(self.template)\n",
    "        signal_fft = np.fft.fft(self.signal)\n",
    "        power_vec = self.make_psd(noise)\n",
    "        optimal = 2* np.fft.ifft(self.product(signal_fft, template_fft, power_vec)) * self.fs\n",
    "        \n",
    "        # in order to get an SNR of 1 when the template is at a time of where the signal is only noise,\n",
    "        # we divide by this sigma:\n",
    "        if normalize:\n",
    "            df = np.abs(self.freq[1] - self.freq[2])\n",
    "            sigmasq = 1*(template_fft * template_fft.conjugate() / power_vec).sum() * df\n",
    "            sigma = np.sqrt(np.abs(sigmasq))\n",
    "        else:\n",
    "            sigma = 1\n",
    "            \n",
    "        SNR_complex = optimal / sigma\n",
    "        \n",
    "        # this wil give us an array of matches between the signal and the template representing\n",
    "        # the offset in time, this mean that we will get the maximun SNR at offset 0 and the same value at the end\n",
    "        # of the array (maximun offset), this is because is cyclical, so in order to get the maximun SNR at an\n",
    "        # offset of time between the minimum (offset 0) and maximum, we move the template peak to the end and sinse we usually\n",
    "        # have the peak of the template at the middle of time, we do:\n",
    "        \n",
    "        peaksample = int(self.template.size / 2)  # location of peak in the template\n",
    "        SNR_complex = np.roll(SNR_complex,peaksample) # we shift the SNR because we want to shift the time of the template.\n",
    "        return SNR_complex"
   ]
  },
  {
   "cell_type": "markdown",
   "metadata": {},
   "source": [
    "### Testing for White noise\n",
    "* No matter what template whe try here there should be always a bad SNR. This is a trivial test"
   ]
  },
  {
   "cell_type": "code",
   "execution_count": null,
   "metadata": {},
   "outputs": [],
   "source": []
  }
 ],
 "metadata": {
  "kernelspec": {
   "display_name": "Python 3",
   "language": "python",
   "name": "python3"
  },
  "language_info": {
   "codemirror_mode": {
    "name": "ipython",
    "version": 3
   },
   "file_extension": ".py",
   "mimetype": "text/x-python",
   "name": "python",
   "nbconvert_exporter": "python",
   "pygments_lexer": "ipython3",
   "version": "3.5.2"
  }
 },
 "nbformat": 4,
 "nbformat_minor": 2
}
