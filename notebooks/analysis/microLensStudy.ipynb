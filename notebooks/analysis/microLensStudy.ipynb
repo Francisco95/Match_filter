{
 "cells": [
  {
   "cell_type": "markdown",
   "metadata": {},
   "source": [
    "# Micro Lensing: Study\n",
    "\n",
    "Use Linear Regressor for Matching Filter Method over unevenly time samples involve several parameters that may affect the veracity of the resulted SNR. These parameters are:\n",
    "\n",
    "* Regression configuration: $\\alpha$, tolerance, iterations, norm(L1, L2 or elasticnet)\n",
    "* Frequency grid: max. frequency, min. frequency, delta frequency\n",
    "* Noise PSD: window\n",
    "* template: Micro lens parameters ($U_0$, $t_0$, $t_E$, $fs$)\n",
    "\n",
    "Here we test these parameters and look for the optimal combination."
   ]
  },
  {
   "cell_type": "code",
   "execution_count": null,
   "metadata": {},
   "outputs": [],
   "source": []
  }
 ],
 "metadata": {
  "kernelspec": {
   "display_name": "Python 3",
   "language": "python",
   "name": "python3"
  },
  "language_info": {
   "codemirror_mode": {
    "name": "ipython",
    "version": 3
   },
   "file_extension": ".py",
   "mimetype": "text/x-python",
   "name": "python",
   "nbconvert_exporter": "python",
   "pygments_lexer": "ipython3",
   "version": "3.6.7"
  }
 },
 "nbformat": 4,
 "nbformat_minor": 2
}
