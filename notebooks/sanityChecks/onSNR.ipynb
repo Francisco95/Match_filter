{
 "cells": [
  {
   "cell_type": "markdown",
   "metadata": {},
   "source": [
    "# Testing SNR method\n",
    "\n",
    "Compute just correlation is not enough to get the Signal-to-Noise Ratio, we do an element wise weight by the Power Spectral Density of noise and some constants. The Theoretical formula in continuom space is:\n",
    "\n",
    "$$ SNR = \\frac{\\int \\frac{X(f)H^{*}(f)}{S_n(f)} e^{2 \\pi f t}df}{\\sqrt{df \\sum \\frac{X(f)H^{*}(f)}{S_n(f)}}}$$\n",
    "\n",
    "We check here:\n",
    "* behavior of doing the element wise weight\n",
    "* value range for only noise data\n",
    "* value range for same data and template.\n",
    "* normalization for an example case."
   ]
  },
  {
   "cell_type": "code",
   "execution_count": 1,
   "metadata": {},
   "outputs": [],
   "source": [
    "# imports \n",
    "import numpy as np\n",
    "import matplotlib.pyplot as plt\n",
    "%matplotlib inline\n",
    "\n",
    "import sys\n",
    "sys.path.append(\"../../\")\n",
    "from mfilter.regressions import * #regression objects\n",
    "from mfilter.types import FrequencySamples, TimeSeries, FrequencySeries, TimesSamples # samples objects\n",
    "from mfilter.transform.transform import FourierTransform, Regression, FFT # transform objects"
   ]
  },
  {
   "cell_type": "code",
   "execution_count": null,
   "metadata": {},
   "outputs": [],
   "source": [
    "# global variables\n",
    "\n",
    "# regressor\n",
    "reg = SGDRegression(alpha=1e-4, max_iter=1000, penalty=\"elasticnet\", l1_ratio=1, tol=0.001)\n",
    "\n",
    "# data, composition of three frequencies, not necessary satisfying nyquist limit\n",
    "f1 = 0.005\n",
    "f2 = 0.01\n",
    "f3 = 0.03\n",
    "\n",
    "# time, regular sampled, with sampling rate equal to the lower frequency.\n",
    "fs = 0.05*2\n",
    "N = 100\n",
    "times = TimesSamples(np.arange(N) / fs)\n",
    "\n"
   ]
  }
 ],
 "metadata": {
  "kernelspec": {
   "display_name": "Python 3",
   "language": "python",
   "name": "python3"
  },
  "language_info": {
   "codemirror_mode": {
    "name": "ipython",
    "version": 3
   },
   "file_extension": ".py",
   "mimetype": "text/x-python",
   "name": "python",
   "nbconvert_exporter": "python",
   "pygments_lexer": "ipython3",
   "version": "3.6.7"
  }
 },
 "nbformat": 4,
 "nbformat_minor": 2
}
