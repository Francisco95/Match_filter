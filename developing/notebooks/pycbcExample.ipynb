{
 "cells": [
  {
   "cell_type": "markdown",
   "metadata": {},
   "source": [
    "# Pycbc: Matched filter\n",
    "pycbc its a python toolkit for analysis of data from gravitational-wave laser interferometer detectors with the goal of detecting and studying signals from compact binary coalescences (CBCs). For more, see [pycbc](https://github.com/gwastro/pycbc)\n",
    "\n",
    "We will use this library in order to test how a well implemented matched filter works. Since pycbc use regular sampling was not usefull for our goals.\n",
    "\n",
    "Here we are going to check how this library implements the matched filter."
   ]
  },
  {
   "cell_type": "code",
   "execution_count": 1,
   "metadata": {},
   "outputs": [],
   "source": [
    "import pycbc.psd\n",
    "import pycbc.noise\n",
    "import pycbc.waveform\n",
    "import pycbc.filter as flt\n",
    "import matplotlib.pyplot as plt\n",
    "%matplotlib inline"
   ]
  },
  {
   "cell_type": "code",
   "execution_count": 2,
   "metadata": {},
   "outputs": [
    {
     "name": "stdout",
     "output_type": "stream",
     "text": [
      "Help on function matched_filter in module pycbc.filter.matchedfilter:\n",
      "\n",
      "matched_filter(template, data, psd=None, low_frequency_cutoff=None, high_frequency_cutoff=None, sigmasq=None)\n",
      "    Return the complex snr.\n",
      "    \n",
      "    Return the complex snr, along with its associated normalization of the\n",
      "    template, matched filtered against the data.\n",
      "    \n",
      "    Parameters\n",
      "    ----------\n",
      "    template : TimeSeries or FrequencySeries\n",
      "        The template waveform\n",
      "    data : TimeSeries or FrequencySeries\n",
      "        The strain data to be filtered.\n",
      "    psd : FrequencySeries\n",
      "        The noise weighting of the filter.\n",
      "    low_frequency_cutoff : {None, float}, optional\n",
      "        The frequency to begin the filter calculation. If None, begin at the\n",
      "        first frequency after DC.\n",
      "    high_frequency_cutoff : {None, float}, optional\n",
      "        The frequency to stop the filter calculation. If None, continue to the\n",
      "        the nyquist frequency.\n",
      "    sigmasq : {None, float}, optional\n",
      "        The template normalization. If none, this value is calculated\n",
      "        internally.\n",
      "    \n",
      "    Returns\n",
      "    -------\n",
      "    snr : TimeSeries\n",
      "        A time series containing the complex snr.\n",
      "\n"
     ]
    }
   ],
   "source": [
    "help(flt.matchedfilter.matched_filter)"
   ]
  },
  {
   "cell_type": "code",
   "execution_count": 3,
   "metadata": {},
   "outputs": [
    {
     "data": {
      "text/plain": [
       "[<matplotlib.lines.Line2D at 0x7f3d09ce2b70>]"
      ]
     },
     "execution_count": 3,
     "metadata": {},
     "output_type": "execute_result"
    },
    {
     "data": {
      "image/png": "[encoded data removed]",
      "text/plain": [
       "<Figure size 432x288 with 1 Axes>"
      ]
     },
     "metadata": {},
     "output_type": "display_data"
    }
   ],
   "source": [
    "# Generate some noise with an advanced ligo psd\n",
    "flow = 30.0\n",
    "delta_f = 1.0 / 16\n",
    "flen = int(2048 / delta_f) + 1\n",
    "psd = pycbc.psd.aLIGOZeroDetHighPower(flen, delta_f, flow)\n",
    "plt.semilogy(psd.get_sample_frequencies(), psd)"
   ]
  },
  {
   "cell_type": "code",
   "execution_count": 5,
   "metadata": {},
   "outputs": [
    {
     "ename": "ValueError",
     "evalue": "Approximant SEOBNRv2 not available",
     "output_type": "error",
     "traceback": [
      "\u001b[0;31m---------------------------------------------------------------------------\u001b[0m",
      "\u001b[0;31mValueError\u001b[0m                                Traceback (most recent call last)",
      "\u001b[0;32m<ipython-input-5-0235f785b554>\u001b[0m in \u001b[0;36m<module>\u001b[0;34m()\u001b[0m\n\u001b[1;32m      8\u001b[0m hp, hc = pycbc.waveform.get_fd_waveform(approximant=\"SEOBNRv2\",\n\u001b[1;32m      9\u001b[0m                              \u001b[0mmass1\u001b[0m\u001b[0;34m=\u001b[0m\u001b[0;36m25\u001b[0m\u001b[0;34m,\u001b[0m \u001b[0mmass2\u001b[0m\u001b[0;34m=\u001b[0m\u001b[0;36m25\u001b[0m\u001b[0;34m,\u001b[0m\u001b[0;34m\u001b[0m\u001b[0;34m\u001b[0m\u001b[0m\n\u001b[0;32m---> 10\u001b[0;31m                              f_lower=flow, delta_f=stilde.delta_f)\n\u001b[0m",
      "\u001b[0;32m/usr/local/lib/python3.6/dist-packages/pycbc/waveform/waveform.py\u001b[0m in \u001b[0;36mget_fd_waveform\u001b[0;34m(template, **kwargs)\u001b[0m\n\u001b[1;32m    481\u001b[0m     \u001b[0;32mif\u001b[0m \u001b[0minput_params\u001b[0m\u001b[0;34m[\u001b[0m\u001b[0;34m'approximant'\u001b[0m\u001b[0;34m]\u001b[0m \u001b[0;32mnot\u001b[0m \u001b[0;32min\u001b[0m \u001b[0mwav_gen\u001b[0m\u001b[0;34m:\u001b[0m\u001b[0;34m\u001b[0m\u001b[0;34m\u001b[0m\u001b[0m\n\u001b[1;32m    482\u001b[0m         raise ValueError(\"Approximant %s not available\" %\n\u001b[0;32m--> 483\u001b[0;31m                             (input_params['approximant']))\n\u001b[0m\u001b[1;32m    484\u001b[0m     \u001b[0;32mtry\u001b[0m\u001b[0;34m:\u001b[0m\u001b[0;34m\u001b[0m\u001b[0;34m\u001b[0m\u001b[0m\n\u001b[1;32m    485\u001b[0m         \u001b[0mffunc\u001b[0m \u001b[0;34m=\u001b[0m \u001b[0minput_params\u001b[0m\u001b[0;34m.\u001b[0m\u001b[0mpop\u001b[0m\u001b[0;34m(\u001b[0m\u001b[0;34m'f_final_func'\u001b[0m\u001b[0;34m)\u001b[0m\u001b[0;34m\u001b[0m\u001b[0;34m\u001b[0m\u001b[0m\n",
      "\u001b[0;31mValueError\u001b[0m: Approximant SEOBNRv2 not available"
     ]
    }
   ],
   "source": [
    "# Generate 16 seconds of noise at 4096 Hz\n",
    "delta_t = 1.0 / 4096\n",
    "tsamples = int(16 / delta_t)\n",
    "strain = pycbc.noise.noise_from_psd(tsamples, delta_t, psd, seed=127)\n",
    "stilde = strain.to_frequencyseries()\n",
    "\n",
    "# Use a waveform as a matched filter\n",
    "hp, hc = pycbc.waveform.get_fd_waveform(approximant=\"SEOBNRv2\",\n",
    "                             mass1=25, mass2=25,\n",
    "                             f_lower=flow, delta_f=stilde.delta_f)"
   ]
  },
  {
   "cell_type": "code",
   "execution_count": null,
   "metadata": {},
   "outputs": [],
   "source": [
    "%debug"
   ]
  },
  {
   "cell_type": "code",
   "execution_count": null,
   "metadata": {},
   "outputs": [],
   "source": []
  }
 ],
 "metadata": {
  "kernelspec": {
   "display_name": "Python 3",
   "language": "python",
   "name": "python3"
  },
  "language_info": {
   "codemirror_mode": {
    "name": "ipython",
    "version": 3
   },
   "file_extension": ".py",
   "mimetype": "text/x-python",
   "name": "python",
   "nbconvert_exporter": "python",
   "pygments_lexer": "ipython3",
   "version": "3.6.7"
  }
 },
 "nbformat": 4,
 "nbformat_minor": 2
}
