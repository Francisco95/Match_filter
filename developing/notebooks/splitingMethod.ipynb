{
 "cells": [
  {
   "cell_type": "markdown",
   "metadata": {},
   "source": [
    "# Fourier Transform through linear regression\n",
    "\n",
    "We know that fourier transform can be expressed as signal decomposition using a fourier matrix $\\Phi$ which in theory shiuld the of the form:\n",
    "\n",
    "$$ \\Phi_{i, j} = e^ {}$$"
   ]
  },
  {
   "cell_type": "code",
   "execution_count": 1,
   "metadata": {},
   "outputs": [
    {
     "name": "stderr",
     "output_type": "stream",
     "text": [
      "/usr/lib/python3.6/importlib/_bootstrap.py:219: RuntimeWarning: numpy.dtype size changed, may indicate binary incompatibility. Expected 96, got 88\n",
      "  return f(*args, **kwds)\n"
     ]
    }
   ],
   "source": [
    "import matplotlib.pyplot as plt\n",
    "import numpy as np\n",
    "import time\n",
    "import sys\n",
    "\n",
    "from collections import defaultdict\n",
    "\n",
    "sys.path.append(\"../..\")\n",
    "from mfilter.regressions import *\n",
    "from mfilter.types import FrequencySamples, TimeSeries, FrequencySeries, TimesSamples\n",
    "from mfilter.filter import *\n",
    "from microlensing.lib.microlensing import *\n",
    "from matplotlib.mlab import psd\n",
    "\n",
    "%matplotlib inline\n",
    "plt.style.use('seaborn')\n",
    "fsize = 16"
   ]
  },
  {
   "cell_type": "code",
   "execution_count": 34,
   "metadata": {},
   "outputs": [
    {
     "name": "stdout",
     "output_type": "stream",
     "text": [
      "(1512, 1)\n",
      "(1512,)\n"
     ]
    },
    {
     "data": {
      "text/plain": [
       "array([-4.53327162, -3.5475759 , -2.89587293, ...,  2.87958504,\n",
       "        3.12956059,  3.39131468])"
      ]
     },
     "execution_count": 34,
     "metadata": {},
     "output_type": "execute_result"
    }
   ],
   "source": [
    "om = np.random.randn(1512, 1)\n",
    "print(om.shape)\n",
    "omm = om.reshape(1,-1)[0]\n",
    "print(omm.shape)\n",
    "omm.sort()\n",
    "omm"
   ]
  },
  {
   "cell_type": "code",
   "execution_count": 10,
   "metadata": {},
   "outputs": [
    {
     "data": {
      "text/plain": [
       "(1512,)"
      ]
     },
     "execution_count": 10,
     "metadata": {},
     "output_type": "execute_result"
    }
   ],
   "source": [
    "np.unique(om).shape"
   ]
  },
  {
   "cell_type": "code",
   "execution_count": null,
   "metadata": {},
   "outputs": [],
   "source": []
  }
 ],
 "metadata": {
  "kernelspec": {
   "display_name": "Python 3",
   "language": "python",
   "name": "python3"
  },
  "language_info": {
   "codemirror_mode": {
    "name": "ipython",
    "version": 3
   },
   "file_extension": ".py",
   "mimetype": "text/x-python",
   "name": "python",
   "nbconvert_exporter": "python",
   "pygments_lexer": "ipython3",
   "version": "3.6.6"
  }
 },
 "nbformat": 4,
 "nbformat_minor": 2
}
